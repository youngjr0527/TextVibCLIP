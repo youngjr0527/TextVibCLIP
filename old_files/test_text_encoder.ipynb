{
  "cells": [
    {
      "cell_type": "markdown",
      "metadata": {},
      "source": [
        "# TextVibCLIP Text Encoder 단독 성능 테스트\n",
        "\n",
        "UOS 데이터셋에서 Text Encoder가 베어링 고장 유형을 제대로 구분할 수 있는지 검증\n"
      ]
    },
    {
      "cell_type": "code",
      "execution_count": 1,
      "metadata": {},
      "outputs": [
        {
          "name": "stderr",
          "output_type": "stream",
          "text": [
            "/data/home/kyj2024/anaconda3/envs/TVCLIP/lib/python3.8/site-packages/tqdm/auto.py:21: TqdmWarning: IProgress not found. Please update jupyter and ipywidgets. See https://ipywidgets.readthedocs.io/en/stable/user_install.html\n",
            "  from .autonotebook import tqdm as notebook_tqdm\n"
          ]
        },
        {
          "name": "stdout",
          "output_type": "stream",
          "text": [
            "📚 Text Encoder 단독 성능 테스트 시작\n"
          ]
        },
        {
          "name": "stderr",
          "output_type": "stream",
          "text": [
            "/data/home/kyj2024/anaconda3/envs/TVCLIP/lib/python3.8/site-packages/torchvision/datapoints/__init__.py:12: UserWarning: The torchvision.datapoints and torchvision.transforms.v2 namespaces are still Beta. While we do not expect major breaking changes, some APIs may still change according to user feedback. Please submit any feedback you may have in this issue: https://github.com/pytorch/vision/issues/6753, and you can also check out https://github.com/pytorch/vision/issues/7319 to learn more about the APIs that we suspect might involve future changes. You can silence this warning by calling torchvision.disable_beta_transforms_warning().\n",
            "  warnings.warn(_BETA_TRANSFORMS_WARNING)\n",
            "/data/home/kyj2024/anaconda3/envs/TVCLIP/lib/python3.8/site-packages/torchvision/transforms/v2/__init__.py:54: UserWarning: The torchvision.datapoints and torchvision.transforms.v2 namespaces are still Beta. While we do not expect major breaking changes, some APIs may still change according to user feedback. Please submit any feedback you may have in this issue: https://github.com/pytorch/vision/issues/6753, and you can also check out https://github.com/pytorch/vision/issues/7319 to learn more about the APIs that we suspect might involve future changes. You can silence this warning by calling torchvision.disable_beta_transforms_warning().\n",
            "  warnings.warn(_BETA_TRANSFORMS_WARNING)\n"
          ]
        }
      ],
      "source": [
        "import sys\n",
        "import torch\n",
        "import torch.nn.functional as F\n",
        "import numpy as np\n",
        "import matplotlib.pyplot as plt\n",
        "from sklearn.metrics import accuracy_score, classification_report\n",
        "from sklearn.manifold import TSNE\n",
        "from collections import Counter\n",
        "import logging\n",
        "\n",
        "# 프로젝트 루트 추가\n",
        "sys.path.append('/data/home/kyj2024/TextVibCLIP')\n",
        "\n",
        "from src.text_encoder import create_text_encoder\n",
        "from src.data_loader import BearingDataset\n",
        "from torch.utils.data import DataLoader\n",
        "from src.data_loader import create_collate_fn\n",
        "\n",
        "# 로깅 설정\n",
        "logging.basicConfig(level=logging.INFO)\n",
        "logger = logging.getLogger(__name__)\n",
        "\n",
        "print(\"📚 Text Encoder 단독 성능 테스트 시작\")\n"
      ]
    },
    {
      "cell_type": "markdown",
      "metadata": {},
      "source": [
        "## 1. 데이터 준비\n"
      ]
    },
    {
      "cell_type": "code",
      "execution_count": 2,
      "metadata": {},
      "outputs": [
        {
          "name": "stderr",
          "output_type": "stream",
          "text": [
            "INFO:src.data_loader:UOS 데이터 라벨 분포: {'B_6204': 1, 'H_6204': 4, 'IR_6204': 1, 'OR_6204': 1}\n",
            "INFO:src.data_loader:최소 샘플 수: 1\n",
            "INFO:src.data_loader:UOS Domain-Incremental 윈도우 레벨 분할:\n",
            "INFO:src.data_loader:  모든 subset에 모든 7개 파일 포함\n",
            "INFO:src.data_loader:  각 파일 내에서 윈도우 분할: Train 60%, Val 20%, Test 20%\n",
            "INFO:src.data_loader:  Deep Groove Ball 7-클래스 분포: {'B': 1, 'H': 1, 'IR': 1, 'OR': 1, 'L': 1, 'M': 1, 'U': 1}\n",
            "INFO:src.data_loader:  클래스 수: 7개 (균형 확인)\n",
            "INFO:src.data_loader:  ✅ 완벽한 클래스 균형 달성!\n",
            "INFO:src.data_loader:UOS train 분할 결과:\n",
            "INFO:src.data_loader:  Train: 7개 파일, Val: 7개 파일, Test: 7개 파일\n"
          ]
        },
        {
          "name": "stdout",
          "output_type": "stream",
          "text": [
            "디바이스: cuda\n"
          ]
        },
        {
          "name": "stderr",
          "output_type": "stream",
          "text": [
            "INFO:src.data_loader:BearingDataset 초기화 완료 (UOS): 7개 파일, 1249개 윈도우/파일, 총 8743개 샘플, Domain: 600, Subset: train\n",
            "INFO:src.data_loader:UOS 데이터 라벨 분포: {'B_6204': 1, 'H_6204': 4, 'IR_6204': 1, 'OR_6204': 1}\n",
            "INFO:src.data_loader:최소 샘플 수: 1\n",
            "INFO:src.data_loader:UOS Domain-Incremental 윈도우 레벨 분할:\n",
            "INFO:src.data_loader:  모든 subset에 모든 7개 파일 포함\n",
            "INFO:src.data_loader:  각 파일 내에서 윈도우 분할: Train 60%, Val 20%, Test 20%\n",
            "INFO:src.data_loader:  Deep Groove Ball 7-클래스 분포: {'B': 1, 'H': 1, 'IR': 1, 'OR': 1, 'L': 1, 'M': 1, 'U': 1}\n",
            "INFO:src.data_loader:  클래스 수: 7개 (균형 확인)\n",
            "INFO:src.data_loader:  ✅ 완벽한 클래스 균형 달성!\n",
            "INFO:src.data_loader:UOS test 분할 결과:\n",
            "INFO:src.data_loader:  Train: 7개 파일, Val: 7개 파일, Test: 7개 파일\n",
            "INFO:src.data_loader:BearingDataset 초기화 완료 (UOS): 7개 파일, 1249개 윈도우/파일, 총 8743개 샘플, Domain: 600, Subset: test\n",
            "INFO:src.data_loader:인덱스 매핑 생성 완료: 8743개 (파일 7개 × 윈도우 1249개)\n"
          ]
        },
        {
          "name": "stdout",
          "output_type": "stream",
          "text": [
            "Train 데이터: 8743개 샘플\n",
            "Test 데이터: 8743개 샘플\n",
            "\n",
            "샘플 구조:\n",
            "  라벨: tensor([6, 0])\n",
            "  텍스트: Shaft axis deviation detected...\n"
          ]
        }
      ],
      "source": [
        "# UOS 데이터셋 로드\n",
        "device = torch.device('cuda' if torch.cuda.is_available() else 'cpu')\n",
        "print(f\"디바이스: {device}\")\n",
        "\n",
        "# Train 데이터\n",
        "train_dataset = BearingDataset(\n",
        "    data_dir='data_scenario1',\n",
        "    dataset_type='uos',\n",
        "    domain_value=600,\n",
        "    subset='train'\n",
        ")\n",
        "\n",
        "# Test 데이터\n",
        "test_dataset = BearingDataset(\n",
        "    data_dir='data_scenario1',\n",
        "    dataset_type='uos',\n",
        "    domain_value=600,\n",
        "    subset='test'\n",
        ")\n",
        "\n",
        "print(f\"Train 데이터: {len(train_dataset)}개 샘플\")\n",
        "print(f\"Test 데이터: {len(test_dataset)}개 샘플\")\n",
        "\n",
        "# 샘플 확인\n",
        "sample = train_dataset[0]\n",
        "print(f\"\\n샘플 구조:\")\n",
        "print(f\"  라벨: {sample['labels']}\")\n",
        "print(f\"  텍스트: {sample['text'][:100]}...\")\n"
      ]
    },
    {
      "cell_type": "markdown",
      "metadata": {},
      "source": [
        "## 2. Text Encoder 생성 및 텍스트 임베딩\n"
      ]
    },
    {
      "cell_type": "code",
      "execution_count": 3,
      "metadata": {},
      "outputs": [
        {
          "name": "stderr",
          "output_type": "stream",
          "text": [
            "INFO:src.text_encoder:LoRA 적용 완료: rank=32, alpha=64\n",
            "INFO:src.text_encoder:Base DistilBERT 파라미터 freeze 완료: 100개 파라미터\n",
            "INFO:src.text_encoder:TextEncoder 초기화 완료: LoRA=True, Freeze=True\n",
            "INFO:src.text_encoder:TextEncoder 생성 (first_domain): Total=1,114,880, LoRA=589,824\n"
          ]
        },
        {
          "name": "stdout",
          "output_type": "stream",
          "text": [
            "Text Encoder 파라미터: 1,114,880개\n",
            "\n",
            "수집된 클래스별 텍스트 수: {0: 100, 1: 100, 2: 100, 3: 100, 4: 100, 5: 100, 6: 100}\n",
            "전체 텍스트: 700개\n",
            "클래스 분포: Counter({0: 100, 1: 100, 2: 100, 3: 100, 4: 100, 5: 100, 6: 100})\n"
          ]
        }
      ],
      "source": [
        "# Text Encoder 생성\n",
        "text_encoder = create_text_encoder('first_domain')\n",
        "text_encoder.to(device)\n",
        "text_encoder.eval()\n",
        "\n",
        "print(f\"Text Encoder 파라미터: {text_encoder.get_trainable_parameters():,}개\")\n",
        "\n",
        "# 클래스별 텍스트 수집 (각 클래스당 100개씩)\n",
        "class_texts = {0: [], 1: [], 2: [], 3: [], 4: [], 5: [], 6: []}  # 7개 클래스\n",
        "samples_per_class = 100\n",
        "class_counts = {0: 0, 1: 0, 2: 0, 3: 0, 4: 0, 5: 0, 6: 0}\n",
        "\n",
        "for i in range(len(train_dataset)):\n",
        "    if all(count >= samples_per_class for count in class_counts.values()):\n",
        "        break\n",
        "        \n",
        "    sample = train_dataset[i]\n",
        "    label = sample['labels'][0].item()  # 주 분류\n",
        "    text = sample['text']\n",
        "    \n",
        "    if class_counts[label] < samples_per_class:\n",
        "        class_texts[label].append(text)\n",
        "        class_counts[label] += 1\n",
        "\n",
        "print(f\"\\n수집된 클래스별 텍스트 수: {class_counts}\")\n",
        "\n",
        "# 모든 텍스트를 하나의 리스트로 결합\n",
        "all_texts = []\n",
        "all_labels = []\n",
        "\n",
        "for class_id, texts in class_texts.items():\n",
        "    all_texts.extend(texts)\n",
        "    all_labels.extend([class_id] * len(texts))\n",
        "\n",
        "print(f\"전체 텍스트: {len(all_texts)}개\")\n",
        "print(f\"클래스 분포: {Counter(all_labels)}\")\n"
      ]
    },
    {
      "cell_type": "markdown",
      "metadata": {},
      "source": [
        "## 3. 텍스트 임베딩 생성 및 분석\n"
      ]
    },
    {
      "cell_type": "code",
      "execution_count": 4,
      "metadata": {},
      "outputs": [
        {
          "name": "stdout",
          "output_type": "stream",
          "text": [
            "Text embeddings shape: torch.Size([700, 256])\n",
            "임베딩 통계: mean=-0.0045, std=0.0623\n",
            "임베딩 범위: min=-0.1826, max=0.1629\n",
            "고유 클래스: [0, 1, 2, 3, 4, 5, 6]\n"
          ]
        }
      ],
      "source": [
        "# 텍스트 임베딩 생성\n",
        "with torch.no_grad():\n",
        "    text_embeddings = text_encoder.encode_texts(all_texts, device)\n",
        "    text_embeddings = F.normalize(text_embeddings, p=2, dim=1)\n",
        "\n",
        "print(f\"Text embeddings shape: {text_embeddings.shape}\")\n",
        "print(f\"임베딩 통계: mean={text_embeddings.mean().item():.4f}, std={text_embeddings.std().item():.4f}\")\n",
        "print(f\"임베딩 범위: min={text_embeddings.min().item():.4f}, max={text_embeddings.max().item():.4f}\")\n",
        "\n",
        "# 라벨을 텐서로 변환\n",
        "labels_tensor = torch.tensor(all_labels)\n",
        "unique_classes = torch.unique(labels_tensor)\n",
        "print(f\"고유 클래스: {unique_classes.tolist()}\")\n"
      ]
    },
    {
      "cell_type": "markdown",
      "metadata": {},
      "source": [
        "## 4. 클래스별 Prototype 계산 및 구분 능력 테스트\n"
      ]
    },
    {
      "cell_type": "code",
      "execution_count": 5,
      "metadata": {},
      "outputs": [
        {
          "name": "stdout",
          "output_type": "stream",
          "text": [
            "클래스별 prototype 생성:\n",
            "  클래스 0: 100개, 내부 유사도 0.9627±0.0224\n",
            "  클래스 1: 100개, 내부 유사도 0.9702±0.0165\n",
            "  클래스 2: 100개, 내부 유사도 0.9725±0.0159\n",
            "  클래스 3: 100개, 내부 유사도 0.9739±0.0146\n",
            "  클래스 4: 100개, 내부 유사도 0.9737±0.0164\n",
            "  클래스 5: 100개, 내부 유사도 0.9743±0.0151\n",
            "  클래스 6: 100개, 내부 유사도 0.9643±0.0204\n",
            "\n",
            "Prototype matrix shape: torch.Size([7, 256])\n",
            "Prototype labels: [0, 1, 2, 3, 4, 5, 6]\n"
          ]
        }
      ],
      "source": [
        "# 클래스별 prototype 계산\n",
        "class_prototypes = []\n",
        "prototype_labels = []\n",
        "\n",
        "print(\"클래스별 prototype 생성:\")\n",
        "for cls in unique_classes:\n",
        "    cls_mask = (labels_tensor == cls)\n",
        "    cls_embeddings = text_embeddings[cls_mask]\n",
        "    cls_prototype = cls_embeddings.mean(dim=0, keepdim=True)\n",
        "    \n",
        "    class_prototypes.append(cls_prototype)\n",
        "    prototype_labels.append(cls)\n",
        "    \n",
        "    # 클래스 내 유사도 분석\n",
        "    if len(cls_embeddings) > 1:\n",
        "        intra_sim = torch.matmul(cls_embeddings, cls_embeddings.t())\n",
        "        # 대각선 제외한 평균 (자기 자신 제외)\n",
        "        mask = ~torch.eye(len(cls_embeddings), dtype=torch.bool)\n",
        "        intra_mean = intra_sim[mask].mean().item()\n",
        "        intra_std = intra_sim[mask].std().item()\n",
        "        print(f\"  클래스 {cls.item()}: {len(cls_embeddings)}개, 내부 유사도 {intra_mean:.4f}±{intra_std:.4f}\")\n",
        "\n",
        "# Prototype 결합\n",
        "prototype_matrix = torch.cat(class_prototypes, dim=0)  # (7, 256)\n",
        "prototype_labels = torch.stack(prototype_labels)  # (7,)\n",
        "\n",
        "print(f\"\\nPrototype matrix shape: {prototype_matrix.shape}\")\n",
        "print(f\"Prototype labels: {prototype_labels.tolist()}\")\n"
      ]
    },
    {
      "cell_type": "markdown",
      "metadata": {},
      "source": [
        "## 5. 클래스 간 구분 능력 평가\n"
      ]
    },
    {
      "cell_type": "code",
      "execution_count": 6,
      "metadata": {},
      "outputs": [
        {
          "name": "stdout",
          "output_type": "stream",
          "text": [
            "클래스 간 유사도 매트릭스:\n",
            "          H     B    IR    OR     L     U     M\n",
            "   H  0.963 0.952 0.950 0.952 0.954 0.951 0.947\n",
            "   B  0.952 0.971 0.960 0.961 0.954 0.960 0.955\n",
            "  IR  0.950 0.960 0.973 0.972 0.960 0.963 0.955\n",
            "  OR  0.952 0.961 0.972 0.974 0.960 0.963 0.958\n",
            "   L  0.954 0.954 0.960 0.960 0.974 0.952 0.942\n",
            "   U  0.951 0.960 0.963 0.963 0.952 0.975 0.961\n",
            "   M  0.947 0.955 0.955 0.958 0.942 0.961 0.965\n",
            "\n",
            "클래스 구분 능력:\n",
            "  자기 자신 유사도: 0.9705\n",
            "  다른 클래스 유사도: 0.9563\n",
            "  구분도: 0.0142 (클수록 좋음)\n",
            "❌ Text Encoder가 클래스를 제대로 구분하지 못함\n"
          ]
        }
      ],
      "source": [
        "# 클래스 간 유사도 분석\n",
        "inter_class_sim = torch.matmul(prototype_matrix, prototype_matrix.t())\n",
        "\n",
        "print(\"클래스 간 유사도 매트릭스:\")\n",
        "class_names = ['H', 'B', 'IR', 'OR', 'L', 'U', 'M']\n",
        "sim_matrix = inter_class_sim.cpu().numpy()\n",
        "\n",
        "# 매트릭스 출력 (소수점 3자리)\n",
        "print(\"     \", end=\"\")\n",
        "for name in class_names:\n",
        "    print(f\"{name:>6}\", end=\"\")\n",
        "print()\n",
        "\n",
        "for i, name in enumerate(class_names):\n",
        "    print(f\"{name:>4} \", end=\"\")\n",
        "    for j in range(len(class_names)):\n",
        "        print(f\"{sim_matrix[i,j]:>6.3f}\", end=\"\")\n",
        "    print()\n",
        "\n",
        "# 대각선 (자기 자신) vs 비대각선 (다른 클래스) 비교\n",
        "diag_sim = torch.diag(inter_class_sim).mean().item()\n",
        "off_diag_mask = ~torch.eye(len(unique_classes), dtype=torch.bool)\n",
        "off_diag_sim = inter_class_sim[off_diag_mask].mean().item()\n",
        "\n",
        "print(f\"\\n클래스 구분 능력:\")\n",
        "print(f\"  자기 자신 유사도: {diag_sim:.4f}\")\n",
        "print(f\"  다른 클래스 유사도: {off_diag_sim:.4f}\")\n",
        "print(f\"  구분도: {diag_sim - off_diag_sim:.4f} (클수록 좋음)\")\n",
        "\n",
        "separation_score = diag_sim - off_diag_sim\n",
        "if separation_score > 0.1:\n",
        "    print(\"✅ Text Encoder가 클래스를 잘 구분함\")\n",
        "elif separation_score > 0.05:\n",
        "    print(\"⚠️ Text Encoder가 클래스를 어느 정도 구분함\")\n",
        "else:\n",
        "    print(\"❌ Text Encoder가 클래스를 제대로 구분하지 못함\")\n"
      ]
    },
    {
      "cell_type": "markdown",
      "metadata": {},
      "source": [
        "## 6. 텍스트 분류 성능 테스트\n"
      ]
    },
    {
      "cell_type": "code",
      "execution_count": 7,
      "metadata": {},
      "outputs": [
        {
          "name": "stdout",
          "output_type": "stream",
          "text": [
            "Text Encoder 분류 정확도: 0.8300 (83.0%)\n",
            "이론적 랜덤 베이스라인: 0.1429 (14.3%)\n",
            "랜덤 대비 향상: 5.81배\n",
            "\n",
            "클래스별 정확도:\n",
            "  클래스 0 (H): 86/100 = 0.8600 (86.0%)\n",
            "  클래스 1 (B): 84/100 = 0.8400 (84.0%)\n",
            "  클래스 2 (IR): 67/100 = 0.6700 (67.0%)\n",
            "  클래스 3 (OR): 100/100 = 1.0000 (100.0%)\n",
            "  클래스 4 (L): 79/100 = 0.7900 (79.0%)\n",
            "  클래스 5 (U): 100/100 = 1.0000 (100.0%)\n",
            "  클래스 6 (M): 65/100 = 0.6500 (65.0%)\n",
            "\n",
            "예측 분포: [86, 119, 67, 168, 79, 116, 65]\n",
            "실제 분포: [100, 100, 100, 100, 100, 100, 100]\n",
            "\n",
            "혼동 행렬:\n",
            "[[ 86  14   0   0   0   0   0]\n",
            " [  0  84   0  16   0   0   0]\n",
            " [  0   0  67  33   0   0   0]\n",
            " [  0   0   0 100   0   0   0]\n",
            " [  0  21   0   0  79   0   0]\n",
            " [  0   0   0   0   0 100   0]\n",
            " [  0   0   0  19   0  16  65]]\n"
          ]
        }
      ],
      "source": [
        "# 🎯 FIXED: 디바이스 일치 문제 해결\n",
        "# 각 텍스트를 모든 prototype과 비교하여 분류\n",
        "similarities = torch.matmul(text_embeddings, prototype_matrix.t())  # (700, 7)\n",
        "predicted_indices = torch.argmax(similarities, dim=1)  # (700,)\n",
        "\n",
        "# 디바이스 일치 확인\n",
        "if predicted_indices.device != prototype_labels.device:\n",
        "    predicted_indices = predicted_indices.to(prototype_labels.device)\n",
        "\n",
        "predicted_classes = prototype_labels[predicted_indices]  # (700,)\n",
        "\n",
        "# 정확도 계산\n",
        "accuracy = (predicted_classes == labels_tensor).float().mean().item()\n",
        "print(f\"Text Encoder 분류 정확도: {accuracy:.4f} ({accuracy*100:.1f}%)\")\n",
        "\n",
        "# 이론적 랜덤 베이스라인\n",
        "random_baseline = 1.0 / len(unique_classes)\n",
        "print(f\"이론적 랜덤 베이스라인: {random_baseline:.4f} ({random_baseline*100:.1f}%)\")\n",
        "print(f\"랜덤 대비 향상: {accuracy/random_baseline:.2f}배\")\n",
        "\n",
        "# 클래스별 정확도\n",
        "print(\"\\n클래스별 정확도:\")\n",
        "class_accuracies = []\n",
        "for cls in unique_classes:\n",
        "    cls_mask = (labels_tensor == cls)\n",
        "    cls_correct = (predicted_classes[cls_mask] == labels_tensor[cls_mask]).sum().item()\n",
        "    cls_total = cls_mask.sum().item()\n",
        "    cls_acc = cls_correct / cls_total if cls_total > 0 else 0\n",
        "    class_accuracies.append(cls_acc)\n",
        "    print(f\"  클래스 {cls.item()} ({class_names[cls.item()]}): {cls_correct}/{cls_total} = {cls_acc:.4f} ({cls_acc*100:.1f}%)\")\n",
        "\n",
        "# 예측 분포 vs 실제 분포\n",
        "pred_dist = torch.bincount(predicted_classes, minlength=7)\n",
        "actual_dist = torch.bincount(labels_tensor, minlength=7)\n",
        "print(f\"\\n예측 분포: {pred_dist.tolist()}\")\n",
        "print(f\"실제 분포: {actual_dist.tolist()}\")\n",
        "\n",
        "# 혼동 행렬 간단 분석\n",
        "from sklearn.metrics import confusion_matrix\n",
        "cm = confusion_matrix(labels_tensor.cpu(), predicted_classes.cpu())\n",
        "print(f\"\\n혼동 행렬:\")\n",
        "print(cm)\n"
      ]
    },
    {
      "cell_type": "markdown",
      "metadata": {},
      "source": [
        "## 7. t-SNE 시각화\n"
      ]
    },
    {
      "cell_type": "code",
      "execution_count": 8,
      "metadata": {},
      "outputs": [
        {
          "name": "stdout",
          "output_type": "stream",
          "text": [
            "t-SNE 차원 축소 중...\n"
          ]
        },
        {
          "data": {
            "image/png": "[encoded data removed]",
            "text/plain": [
              "<Figure size 1200x800 with 1 Axes>"
            ]
          },
          "metadata": {},
          "output_type": "display_data"
        },
        {
          "name": "stdout",
          "output_type": "stream",
          "text": [
            "✅ t-SNE 시각화 저장 완료: text_encoder_tsne.png\n"
          ]
        }
      ],
      "source": [
        "# t-SNE로 차원 축소 (샘플 수 제한)\n",
        "plt.rcParams[\"font.family\"] = \"NanumGothic\"  \n",
        "print(\"t-SNE 차원 축소 중...\")\n",
        "sample_size = min(500, len(text_embeddings))  # 최대 500개 샘플\n",
        "indices = torch.randperm(len(text_embeddings))[:sample_size]\n",
        "\n",
        "embeddings_sample = text_embeddings[indices].cpu().numpy()\n",
        "labels_sample = labels_tensor[indices].cpu().numpy()\n",
        "\n",
        "tsne = TSNE(n_components=2, random_state=42, perplexity=min(30, sample_size//4))\n",
        "embeddings_2d = tsne.fit_transform(embeddings_sample)\n",
        "\n",
        "# 시각화\n",
        "plt.figure(figsize=(12, 8))\n",
        "\n",
        "# 클래스별 색상\n",
        "colors = ['red', 'blue', 'green', 'orange', 'purple', 'brown', 'pink']\n",
        "\n",
        "for i, cls in enumerate(unique_classes):\n",
        "    cls_mask = (labels_sample == cls.item())\n",
        "    if cls_mask.any():\n",
        "        plt.scatter(embeddings_2d[cls_mask, 0], embeddings_2d[cls_mask, 1], \n",
        "                   c=colors[i], label=f'Class {cls.item()} ({class_names[cls.item()]})', \n",
        "                   alpha=0.7, s=50)\n",
        "\n",
        "plt.title('Text Encoder - 클래스별 임베딩 분포 (t-SNE)', fontsize=14)\n",
        "plt.xlabel('t-SNE 1')\n",
        "plt.ylabel('t-SNE 2')\n",
        "plt.legend(bbox_to_anchor=(1.05, 1), loc='upper left')\n",
        "plt.grid(True, alpha=0.3)\n",
        "plt.tight_layout()\n",
        "plt.savefig('text_encoder_tsne.png', dpi=300, bbox_inches='tight')\n",
        "plt.show()\n",
        "\n",
        "print(\"✅ t-SNE 시각화 저장 완료: text_encoder_tsne.png\")\n"
      ]
    },
    {
      "cell_type": "markdown",
      "metadata": {},
      "source": [
        "## 8. 클래스별 텍스트 샘플 분석\n"
      ]
    },
    {
      "cell_type": "code",
      "execution_count": 9,
      "metadata": {},
      "outputs": [
        {
          "name": "stdout",
          "output_type": "stream",
          "text": [
            "클래스별 대표 텍스트 샘플:\n",
            "\n",
            "클래스 0 (H):\n",
            "  샘플 1: Healthy bearing condition observed\n",
            "  샘플 2: Bearing operates within normal parameters\n",
            "\n",
            "클래스 1 (B):\n",
            "  샘플 1: Rolling element fault confirmed\n",
            "  샘플 2: Ball surface pitting present\n",
            "\n",
            "클래스 2 (IR):\n",
            "  샘플 1: Inner race spalling identified\n",
            "  샘플 2: Inner race defect detected\n",
            "\n",
            "클래스 3 (OR):\n",
            "  샘플 1: Outer race spalling identified\n",
            "  샘플 2: Outer race spalling identified\n",
            "\n",
            "클래스 4 (L):\n",
            "  샘플 1: Mounting looseness confirmed\n",
            "  샘플 2: Assembly looseness identified\n",
            "\n",
            "클래스 5 (U):\n",
            "  샘플 1: Rotor unbalance detected\n",
            "  샘플 2: Rotational imbalance identified\n",
            "\n",
            "클래스 6 (M):\n",
            "  샘플 1: Shaft concentricity fault identified\n",
            "  샘플 2: Shaft axis deviation detected\n",
            "\n",
            "클래스 간 유사도 (혼동 가능성):\n",
            "  H vs B: 0.9519\n",
            "  H vs IR: 0.9498\n",
            "  H vs OR: 0.9520\n",
            "  H vs L: 0.9541\n",
            "  H vs U: 0.9513\n",
            "  H vs M: 0.9465\n",
            "  B vs IR: 0.9604\n",
            "  B vs OR: 0.9614\n",
            "  B vs L: 0.9540\n",
            "  B vs U: 0.9604\n",
            "  B vs M: 0.9552\n",
            "  IR vs OR: 0.9718\n",
            "  IR vs L: 0.9599\n",
            "  IR vs U: 0.9633\n",
            "  IR vs M: 0.9551\n",
            "  OR vs L: 0.9601\n",
            "  OR vs U: 0.9628\n",
            "  OR vs M: 0.9580\n",
            "  L vs U: 0.9517\n",
            "  L vs M: 0.9417\n",
            "  U vs M: 0.9612\n",
            "\n",
            "가장 혼동하기 쉬운 쌍: IR vs OR (유사도: 0.9718)\n"
          ]
        }
      ],
      "source": [
        "# 각 클래스의 대표 텍스트 출력\n",
        "print(\"클래스별 대표 텍스트 샘플:\")\n",
        "for cls in unique_classes:\n",
        "    cls_indices = (labels_tensor == cls).nonzero().flatten()\n",
        "    if len(cls_indices) > 0:\n",
        "        # 첫 번째와 마지막 샘플 출력\n",
        "        sample_idx1 = cls_indices[0].item()\n",
        "        sample_idx2 = cls_indices[-1].item() if len(cls_indices) > 1 else cls_indices[0].item()\n",
        "        \n",
        "        print(f\"\\n클래스 {cls.item()} ({class_names[cls.item()]}):\")\n",
        "        print(f\"  샘플 1: {all_texts[sample_idx1]}\")\n",
        "        if sample_idx1 != sample_idx2:\n",
        "            print(f\"  샘플 2: {all_texts[sample_idx2]}\")\n",
        "\n",
        "# 가장 혼동하기 쉬운 클래스 쌍 찾기\n",
        "print(\"\\n클래스 간 유사도 (혼동 가능성):\")\n",
        "similarities_list = []\n",
        "\n",
        "for i in range(len(unique_classes)):\n",
        "    for j in range(i+1, len(unique_classes)):\n",
        "        sim = inter_class_sim[i, j].item()\n",
        "        similarities_list.append((sim, i, j))\n",
        "        print(f\"  {class_names[i]} vs {class_names[j]}: {sim:.4f}\")\n",
        "\n",
        "# 가장 유사한 쌍\n",
        "similarities_list.sort(reverse=True)\n",
        "most_similar = similarities_list[0]\n",
        "print(f\"\\n가장 혼동하기 쉬운 쌍: {class_names[most_similar[1]]} vs {class_names[most_similar[2]]} (유사도: {most_similar[0]:.4f})\")\n"
      ]
    },
    {
      "cell_type": "markdown",
      "metadata": {},
      "source": [
        "## 9. 결론 및 진단\n"
      ]
    },
    {
      "cell_type": "code",
      "execution_count": 10,
      "metadata": {},
      "outputs": [
        {
          "name": "stdout",
          "output_type": "stream",
          "text": [
            "\n",
            "============================================================\n",
            "📊 Text Encoder 성능 진단 결과\n",
            "============================================================\n",
            "1. 분류 정확도: 83.0% (랜덤: 14.3%)\n",
            "2. 클래스 구분도: 0.0142\n",
            "3. 임베딩 품질: std=0.0623\n",
            "4. 최고 클래스 정확도: 100.0%\n",
            "5. 최저 클래스 정확도: 65.0%\n",
            "\n",
            "🔍 종합 진단:\n",
            "✅ Text Encoder 성능: 우수 (83.0%)\n",
            "📋 다음 단계: Vibration Encoder 테스트 진행\n",
            "\n",
            "🎯 세부 권장사항:\n",
            "- Text Encoder는 정상 작동\n",
            "- Vibration Encoder 또는 정렬 문제 확인\n",
            "\n",
            "📈 성능 비교:\n",
            "  Text Encoder 단독: 83.0%\n",
            "  TextVibCLIP 전체: 14.4%\n",
            "🚨 Text Encoder는 정상 - TextVibCLIP 통합 과정에 문제\n"
          ]
        }
      ],
      "source": [
        "print(\"\\n\" + \"=\"*60)\n",
        "print(\"📊 Text Encoder 성능 진단 결과\")\n",
        "print(\"=\"*60)\n",
        "\n",
        "print(f\"1. 분류 정확도: {accuracy*100:.1f}% (랜덤: {random_baseline*100:.1f}%)\")\n",
        "print(f\"2. 클래스 구분도: {separation_score:.4f}\")\n",
        "print(f\"3. 임베딩 품질: std={text_embeddings.std().item():.4f}\")\n",
        "print(f\"4. 최고 클래스 정확도: {max(class_accuracies)*100:.1f}%\")\n",
        "print(f\"5. 최저 클래스 정확도: {min(class_accuracies)*100:.1f}%\")\n",
        "\n",
        "# 종합 진단\n",
        "print(f\"\\n🔍 종합 진단:\")\n",
        "if accuracy > 0.8:\n",
        "    diagnosis = \"우수\"\n",
        "    next_step = \"Vibration Encoder 테스트 진행\"\n",
        "    color = \"✅\"\n",
        "elif accuracy > 0.6:\n",
        "    diagnosis = \"양호\"\n",
        "    next_step = \"Text-Vibration 정렬 확인\"\n",
        "    color = \"⚠️\"\n",
        "elif accuracy > 0.4:\n",
        "    diagnosis = \"보통\"\n",
        "    next_step = \"텍스트 생성 로직 개선\"\n",
        "    color = \"⚠️\"\n",
        "else:\n",
        "    diagnosis = \"불량\"\n",
        "    next_step = \"Text Encoder 아키텍처 재설계\"\n",
        "    color = \"❌\"\n",
        "\n",
        "print(f\"{color} Text Encoder 성능: {diagnosis} ({accuracy*100:.1f}%)\")\n",
        "print(f\"📋 다음 단계: {next_step}\")\n",
        "\n",
        "# 세부 권장사항\n",
        "print(f\"\\n🎯 세부 권장사항:\")\n",
        "if accuracy < 0.5:\n",
        "    print(\"- 텍스트 다양성 증가 (더 많은 표현 방식)\")\n",
        "    print(\"- LoRA rank 조정 (32 → 64)\")\n",
        "    print(\"- 학습률 조정\")\n",
        "elif accuracy < 0.7:\n",
        "    print(\"- 텍스트-라벨 매핑 재검토\")\n",
        "    print(\"- Projection layer 크기 조정\")\n",
        "else:\n",
        "    print(\"- Text Encoder는 정상 작동\")\n",
        "    print(\"- Vibration Encoder 또는 정렬 문제 확인\")\n",
        "\n",
        "# TextVibCLIP 전체 성능과 비교\n",
        "textvib_performance = 0.1443  # 현재 UOS 성능\n",
        "print(f\"\\n📈 성능 비교:\")\n",
        "print(f\"  Text Encoder 단독: {accuracy*100:.1f}%\")\n",
        "print(f\"  TextVibCLIP 전체: {textvib_performance*100:.1f}%\")\n",
        "\n",
        "if accuracy > textvib_performance * 3:\n",
        "    print(\"🚨 Text Encoder는 정상 - TextVibCLIP 통합 과정에 문제\")\n",
        "else:\n",
        "    print(\"🔍 Text Encoder 개선이 전체 성능 향상에 도움될 것\")\n"
      ]
    },
    {
      "cell_type": "markdown",
      "metadata": {},
      "source": [
        "## 10. 텍스트 다양성 문제 분석\n"
      ]
    },
    {
      "cell_type": "code",
      "execution_count": 11,
      "metadata": {},
      "outputs": [
        {
          "name": "stdout",
          "output_type": "stream",
          "text": [
            "🔍 텍스트 다양성 분석\n",
            "==================================================\n",
            "클래스별 텍스트 샘플 (처음 3개):\n",
            "\n",
            "클래스 0 (H):\n",
            "  1: Healthy bearing condition observed\n",
            "  2: Bearing operates within normal parameters\n",
            "  3: No defects detected in bearing operation\n",
            "\n",
            "클래스 1 (B):\n",
            "  1: Rolling element fault confirmed\n",
            "  2: Ball surface pitting present\n",
            "  3: Ball surface pitting present\n",
            "\n",
            "클래스 2 (IR):\n",
            "  1: Inner race spalling identified\n",
            "  2: Inner ring fault observed\n",
            "  3: Inner race spalling identified\n",
            "\n",
            "클래스 3 (OR):\n",
            "  1: Outer race spalling identified\n",
            "  2: Outer ring fault observed\n",
            "  3: Outer ring surface defect confirmed\n",
            "\n",
            "텍스트 길이 통계:\n",
            "  평균: 3.8 단어\n",
            "  최소: 3 단어\n",
            "  최대: 6 단어\n",
            "  표준편차: 0.6\n",
            "\n",
            "가장 빈번한 단어 Top 20:\n",
            "  'identified': 143회 (20.4%)\n",
            "  'bearing': 138회 (19.7%)\n",
            "  'detected': 137회 (19.6%)\n",
            "  'confirmed': 133회 (19.0%)\n",
            "  'observed': 123회 (17.6%)\n",
            "  'present': 120회 (17.1%)\n",
            "  'inner': 100회 (14.3%)\n",
            "  'outer': 100회 (14.3%)\n",
            "  'defect': 95회 (13.6%)\n",
            "  'race': 92회 (13.1%)\n",
            "  'looseness': 88회 (12.6%)\n",
            "  'fault': 80회 (11.4%)\n",
            "  'ring': 74회 (10.6%)\n",
            "  'ball': 70회 (10.0%)\n",
            "  'unbalance': 60회 (8.6%)\n",
            "  'surface': 59회 (8.4%)\n",
            "  'spalling': 49회 (7.0%)\n",
            "  'element': 48회 (6.9%)\n",
            "  'damage': 48회 (6.9%)\n",
            "  'normal': 45회 (6.4%)\n",
            "\n",
            "🔍 문제 진단:\n",
            "1. 클래스 구분도가 0.0018로 매우 낮음\n",
            "2. 모든 텍스트가 96%+ 유사함\n",
            "3. 'bearing', 'deep', 'groove' 등 공통 단어가 지배적\n",
            "\\n💡 해결책:\n",
            "- 클래스별 고유 키워드 강화\n",
            "- 텍스트 템플릿 다양화\n",
            "- 베어링 타입 정보 제거 (이미 Deep Groove Ball로 통일됨)\n"
          ]
        }
      ],
      "source": [
        "print(\"🔍 텍스트 다양성 분석\")\n",
        "print(\"=\"*50)\n",
        "\n",
        "# 클래스별 텍스트 샘플 상세 분석\n",
        "print(\"클래스별 텍스트 샘플 (처음 3개):\")\n",
        "for cls in unique_classes[:4]:  # 처음 4개 클래스만\n",
        "    cls_indices = (labels_tensor == cls).nonzero().flatten()\n",
        "    if len(cls_indices) >= 3:\n",
        "        print(f\"\\n클래스 {cls.item()} ({class_names[cls.item()]}):\")\n",
        "        for i in range(3):\n",
        "            idx = cls_indices[i].item()\n",
        "            text = all_texts[idx]\n",
        "            print(f\"  {i+1}: {text}\")\n",
        "\n",
        "# 텍스트 길이 분석\n",
        "text_lengths = [len(text.split()) for text in all_texts]\n",
        "print(f\"\\n텍스트 길이 통계:\")\n",
        "print(f\"  평균: {np.mean(text_lengths):.1f} 단어\")\n",
        "print(f\"  최소: {np.min(text_lengths)} 단어\")\n",
        "print(f\"  최대: {np.max(text_lengths)} 단어\")\n",
        "print(f\"  표준편차: {np.std(text_lengths):.1f}\")\n",
        "\n",
        "# 공통 단어 분석\n",
        "from collections import defaultdict\n",
        "word_counts = defaultdict(int)\n",
        "for text in all_texts:\n",
        "    words = text.lower().split()\n",
        "    for word in words:\n",
        "        word_counts[word] += 1\n",
        "\n",
        "# 가장 빈번한 단어들\n",
        "common_words = sorted(word_counts.items(), key=lambda x: x[1], reverse=True)[:20]\n",
        "print(f\"\\n가장 빈번한 단어 Top 20:\")\n",
        "for word, count in common_words:\n",
        "    print(f\"  '{word}': {count}회 ({count/len(all_texts)*100:.1f}%)\")\n",
        "\n",
        "# 클래스별 고유 단어 분석\n",
        "print(f\"\\n🔍 문제 진단:\")\n",
        "print(f\"1. 클래스 구분도가 0.0018로 매우 낮음\")\n",
        "print(f\"2. 모든 텍스트가 96%+ 유사함\")\n",
        "print(f\"3. 'bearing', 'deep', 'groove' 등 공통 단어가 지배적\")\n",
        "print(f\"\\\\n💡 해결책:\")\n",
        "print(f\"- 클래스별 고유 키워드 강화\")\n",
        "print(f\"- 텍스트 템플릿 다양화\")\n",
        "print(f\"- 베어링 타입 정보 제거 (이미 Deep Groove Ball로 통일됨)\")\n"
      ]
    }
  ],
  "metadata": {
    "kernelspec": {
      "display_name": "TVCLIP",
      "language": "python",
      "name": "python3"
    },
    "language_info": {
      "codemirror_mode": {
        "name": "ipython",
        "version": 3
      },
      "file_extension": ".py",
      "mimetype": "text/x-python",
      "name": "python",
      "nbconvert_exporter": "python",
      "pygments_lexer": "ipython3",
      "version": "3.8.18"
    }
  },
  "nbformat": 4,
  "nbformat_minor": 2
}
